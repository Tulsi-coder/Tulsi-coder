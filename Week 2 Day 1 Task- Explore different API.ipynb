{
 "cells": [
  {
   "cell_type": "code",
   "execution_count": null,
   "id": "8045a70e-222d-41e0-b0bf-0f27ed9fcf17",
   "metadata": {},
   "outputs": [],
   "source": [
    "import requests\n",
    "import pandas as pd"
   ]
  },
  {
   "cell_type": "code",
   "execution_count": 5,
   "id": "d521c91e-5572-49df-9745-04821b6dc32b",
   "metadata": {},
   "outputs": [],
   "source": [
    "# A simple webside URL\n",
    "url = \"https://instagram.com\""
   ]
  },
  {
   "cell_type": "code",
   "execution_count": null,
   "id": "922e0215-e761-476b-9aef-649ab97255b0",
   "metadata": {},
   "outputs": [],
   "source": [
    "response = requests.get(url)"
   ]
  },
  {
   "cell_type": "raw",
   "id": "759585e4-3920-45ee-afad-e87e885f10c9",
   "metadata": {},
   "source": [
    "response"
   ]
  },
  {
   "cell_type": "code",
   "execution_count": 11,
   "id": "b2b84129-8aa0-4c0c-9e43-c3a332ff9062",
   "metadata": {},
   "outputs": [
    {
     "data": {
      "text/html": [
       "<div>\n",
       "<style scoped>\n",
       "    .dataframe tbody tr th:only-of-type {\n",
       "        vertical-align: middle;\n",
       "    }\n",
       "\n",
       "    .dataframe tbody tr th {\n",
       "        vertical-align: top;\n",
       "    }\n",
       "\n",
       "    .dataframe thead th {\n",
       "        text-align: right;\n",
       "    }\n",
       "</style>\n",
       "<table border=\"1\" class=\"dataframe\">\n",
       "  <thead>\n",
       "    <tr style=\"text-align: right;\">\n",
       "      <th></th>\n",
       "      <th>0</th>\n",
       "    </tr>\n",
       "  </thead>\n",
       "  <tbody>\n",
       "    <tr>\n",
       "      <th>0</th>\n",
       "      <td>b'&lt;!DOCTYPE html&gt;&lt;html class=\"_9dls _ar44\" lan...</td>\n",
       "    </tr>\n",
       "    <tr>\n",
       "      <th>1</th>\n",
       "      <td>b'.php/v4/yI/r/VsNE-OHk_8a.png\" rel=\"icon\" siz...</td>\n",
       "    </tr>\n",
       "    <tr>\n",
       "      <th>2</th>\n",
       "      <td>b' /&gt;&lt;meta name=\"bingbot\" content=\"noarchive\" ...</td>\n",
       "    </tr>\n",
       "    <tr>\n",
       "      <th>3</th>\n",
       "      <td>b'eta name=\"apple-mobile-web-app-status-bar-st...</td>\n",
       "    </tr>\n",
       "    <tr>\n",
       "      <th>4</th>\n",
       "      <td>b'd=\"viewport\" name=\"viewport\" content=\"width=...</td>\n",
       "    </tr>\n",
       "  </tbody>\n",
       "</table>\n",
       "</div>"
      ],
      "text/plain": [
       "                                                   0\n",
       "0  b'<!DOCTYPE html><html class=\"_9dls _ar44\" lan...\n",
       "1  b'.php/v4/yI/r/VsNE-OHk_8a.png\" rel=\"icon\" siz...\n",
       "2  b' /><meta name=\"bingbot\" content=\"noarchive\" ...\n",
       "3  b'eta name=\"apple-mobile-web-app-status-bar-st...\n",
       "4  b'd=\"viewport\" name=\"viewport\" content=\"width=..."
      ]
     },
     "execution_count": 11,
     "metadata": {},
     "output_type": "execute_result"
    }
   ],
   "source": [
    "df=pd.DataFrame(response)\n",
    "df.head(5)\n"
   ]
  },
  {
   "cell_type": "code",
   "execution_count": 13,
   "id": "14759046-5543-44a4-8f40-e065fea7c2db",
   "metadata": {},
   "outputs": [
    {
     "data": {
      "text/html": [
       "<div>\n",
       "<style scoped>\n",
       "    .dataframe tbody tr th:only-of-type {\n",
       "        vertical-align: middle;\n",
       "    }\n",
       "\n",
       "    .dataframe tbody tr th {\n",
       "        vertical-align: top;\n",
       "    }\n",
       "\n",
       "    .dataframe thead th {\n",
       "        text-align: right;\n",
       "    }\n",
       "</style>\n",
       "<table border=\"1\" class=\"dataframe\">\n",
       "  <thead>\n",
       "    <tr style=\"text-align: right;\">\n",
       "      <th></th>\n",
       "      <th>0</th>\n",
       "    </tr>\n",
       "  </thead>\n",
       "  <tbody>\n",
       "    <tr>\n",
       "      <th>0</th>\n",
       "      <td>b'&lt;!DOCTYPE html&gt;&lt;html class=\"_9dls _ar44\" lan...</td>\n",
       "    </tr>\n",
       "    <tr>\n",
       "      <th>1</th>\n",
       "      <td>b'.php/v4/yI/r/VsNE-OHk_8a.png\" rel=\"icon\" siz...</td>\n",
       "    </tr>\n",
       "    <tr>\n",
       "      <th>2</th>\n",
       "      <td>b' /&gt;&lt;meta name=\"bingbot\" content=\"noarchive\" ...</td>\n",
       "    </tr>\n",
       "    <tr>\n",
       "      <th>3</th>\n",
       "      <td>b'eta name=\"apple-mobile-web-app-status-bar-st...</td>\n",
       "    </tr>\n",
       "    <tr>\n",
       "      <th>4</th>\n",
       "      <td>b'd=\"viewport\" name=\"viewport\" content=\"width=...</td>\n",
       "    </tr>\n",
       "    <tr>\n",
       "      <th>5</th>\n",
       "      <td>b' /&gt;&lt;meta name=\"theme-color\" content=\"#ffffff...</td>\n",
       "    </tr>\n",
       "    <tr>\n",
       "      <th>6</th>\n",
       "      <td>b'/&gt;&lt;link rel=\"apple-touch-icon\" sizes=\"76x76\"...</td>\n",
       "    </tr>\n",
       "    <tr>\n",
       "      <th>7</th>\n",
       "      <td>b'=\"apple-touch-icon\" sizes=\"120x120\" href=\"ht...</td>\n",
       "    </tr>\n",
       "    <tr>\n",
       "      <th>8</th>\n",
       "      <td>b'ouch-icon\" sizes=\"152x152\" href=\"https://sta...</td>\n",
       "    </tr>\n",
       "    <tr>\n",
       "      <th>9</th>\n",
       "      <td>b'\" sizes=\"167x167\" href=\"https://static.cdnin...</td>\n",
       "    </tr>\n",
       "  </tbody>\n",
       "</table>\n",
       "</div>"
      ],
      "text/plain": [
       "                                                   0\n",
       "0  b'<!DOCTYPE html><html class=\"_9dls _ar44\" lan...\n",
       "1  b'.php/v4/yI/r/VsNE-OHk_8a.png\" rel=\"icon\" siz...\n",
       "2  b' /><meta name=\"bingbot\" content=\"noarchive\" ...\n",
       "3  b'eta name=\"apple-mobile-web-app-status-bar-st...\n",
       "4  b'd=\"viewport\" name=\"viewport\" content=\"width=...\n",
       "5  b' /><meta name=\"theme-color\" content=\"#ffffff...\n",
       "6  b'/><link rel=\"apple-touch-icon\" sizes=\"76x76\"...\n",
       "7  b'=\"apple-touch-icon\" sizes=\"120x120\" href=\"ht...\n",
       "8  b'ouch-icon\" sizes=\"152x152\" href=\"https://sta...\n",
       "9  b'\" sizes=\"167x167\" href=\"https://static.cdnin..."
      ]
     },
     "execution_count": 13,
     "metadata": {},
     "output_type": "execute_result"
    }
   ],
   "source": [
    "df=pd.DataFrame(response)\n",
    "df.head(10)\n"
   ]
  },
  {
   "cell_type": "code",
   "execution_count": 15,
   "id": "9aa3f4e4-1b3d-4458-a8b7-6c980c33ea1c",
   "metadata": {},
   "outputs": [
    {
     "data": {
      "text/html": [
       "<div>\n",
       "<style scoped>\n",
       "    .dataframe tbody tr th:only-of-type {\n",
       "        vertical-align: middle;\n",
       "    }\n",
       "\n",
       "    .dataframe tbody tr th {\n",
       "        vertical-align: top;\n",
       "    }\n",
       "\n",
       "    .dataframe thead th {\n",
       "        text-align: right;\n",
       "    }\n",
       "</style>\n",
       "<table border=\"1\" class=\"dataframe\">\n",
       "  <thead>\n",
       "    <tr style=\"text-align: right;\">\n",
       "      <th></th>\n",
       "      <th>0</th>\n",
       "    </tr>\n",
       "  </thead>\n",
       "  <tbody>\n",
       "    <tr>\n",
       "      <th>3147</th>\n",
       "      <td>b'll,[\"7480357731876087173-server\",\"genTierTwo...</td>\n",
       "    </tr>\n",
       "    <tr>\n",
       "      <th>3148</th>\n",
       "      <td>b'05]],[\"qplTimingsServerJS\",null,null,[\"74803...</td>\n",
       "    </tr>\n",
       "    <tr>\n",
       "      <th>3149</th>\n",
       "      <td>b'[\"7480357731876087173-server\",\"genTierThreeS...</td>\n",
       "    </tr>\n",
       "    <tr>\n",
       "      <th>3150</th>\n",
       "      <td>b'PreloadersStart\",223]],[\"qplTimingsServerJS\"...</td>\n",
       "    </tr>\n",
       "    <tr>\n",
       "      <th>3151</th>\n",
       "      <td>b'S\",null,null,[\"7480357731876087173-server\",\"...</td>\n",
       "    </tr>\n",
       "    <tr>\n",
       "      <th>3152</th>\n",
       "      <td>b'ThreePreloadersEnd\",240]],[\"qplTimingsServer...</td>\n",
       "    </tr>\n",
       "    <tr>\n",
       "      <th>3153</th>\n",
       "      <td>b'\",null,null,[\"7480357731876087173-server\",\"r...</td>\n",
       "    </tr>\n",
       "    <tr>\n",
       "      <th>3154</th>\n",
       "      <td>b'ata-sjs&gt;{}&lt;/script&gt;\\n&lt;script type=\"applicati...</td>\n",
       "    </tr>\n",
       "    <tr>\n",
       "      <th>3155</th>\n",
       "      <td>b'ayloadBytesSent\",null,[{\"htmlStart\":[105152,...</td>\n",
       "    </tr>\n",
       "    <tr>\n",
       "      <th>3156</th>\n",
       "      <td>b'hree\":[30007,6572]}]]]}&lt;/script&gt;\\n&lt;div id=\\'...</td>\n",
       "    </tr>\n",
       "  </tbody>\n",
       "</table>\n",
       "</div>"
      ],
      "text/plain": [
       "                                                      0\n",
       "3147  b'll,[\"7480357731876087173-server\",\"genTierTwo...\n",
       "3148  b'05]],[\"qplTimingsServerJS\",null,null,[\"74803...\n",
       "3149  b'[\"7480357731876087173-server\",\"genTierThreeS...\n",
       "3150  b'PreloadersStart\",223]],[\"qplTimingsServerJS\"...\n",
       "3151  b'S\",null,null,[\"7480357731876087173-server\",\"...\n",
       "3152  b'ThreePreloadersEnd\",240]],[\"qplTimingsServer...\n",
       "3153  b'\",null,null,[\"7480357731876087173-server\",\"r...\n",
       "3154  b'ata-sjs>{}</script>\\n<script type=\"applicati...\n",
       "3155  b'ayloadBytesSent\",null,[{\"htmlStart\":[105152,...\n",
       "3156  b'hree\":[30007,6572]}]]]}</script>\\n<div id=\\'..."
      ]
     },
     "execution_count": 15,
     "metadata": {},
     "output_type": "execute_result"
    }
   ],
   "source": [
    "df=pd.DataFrame(response)\n",
    "df.tail(10)\n"
   ]
  },
  {
   "cell_type": "code",
   "execution_count": 17,
   "id": "baeb0ca7-fcf5-4b02-a4d5-6e9fe0b9bada",
   "metadata": {},
   "outputs": [],
   "source": [
    "url = \"https://facebook.com\""
   ]
  },
  {
   "cell_type": "code",
   "execution_count": 19,
   "id": "4a1d07b0-c23d-4975-9319-25439b5c41ed",
   "metadata": {},
   "outputs": [],
   "source": [
    "response = requests.get(url)"
   ]
  },
  {
   "cell_type": "code",
   "execution_count": 21,
   "id": "ae4dca16-1723-4a97-a5b0-af2d61ea6fcb",
   "metadata": {},
   "outputs": [
    {
     "data": {
      "text/plain": [
       "<Response [200]>"
      ]
     },
     "execution_count": 21,
     "metadata": {},
     "output_type": "execute_result"
    }
   ],
   "source": [
    "response"
   ]
  },
  {
   "cell_type": "code",
   "execution_count": 23,
   "id": "1e3e4809-23f9-4e4b-aa81-2a43412988cc",
   "metadata": {},
   "outputs": [
    {
     "data": {
      "text/plain": [
       "<bound method NDFrame.head of                                                      0\n",
       "0    b'<!DOCTYPE html>\\n<html lang=\"en\" id=\"faceboo...\n",
       "1    b't\" id=\"meta_referrer\" /><script nonce=\"VgiyR...\n",
       "2    b'window.requireLazy([\"Env\"],b):(window.Env=wi...\n",
       "3    b'nly\":false,\"ajaxpipe_token\":\"AXiIB69d99s2FYF...\n",
       "4    b'se,\"compat_iframe_token\":\"AUW_HVZKaf4cOc5ETD...\n",
       "..                                                 ...\n",
       "661  b'tonConditional\"],\"sd\"]],[\"RequireDeferredRef...\n",
       "662  b'gletonConditional\"],\"css\"]]]},hsrp:{hsdp:{cl...\n",
       "663  b'320\":{r:1},\"1843988\":{r:1}},gkxData:{\"8859\":...\n",
       "664  b'pe:\"js\",src:\"https://static.xx.fbcdn.net/rsr...\n",
       "665  b'yl\",\"FTkFlke\",\"p+1OXu8\",\"8ZzgArH\",\"JOwuQhi\",...\n",
       "\n",
       "[666 rows x 1 columns]>"
      ]
     },
     "execution_count": 23,
     "metadata": {},
     "output_type": "execute_result"
    }
   ],
   "source": [
    "df=pd.DataFrame(response)\n",
    "df.head"
   ]
  },
  {
   "cell_type": "code",
   "execution_count": 25,
   "id": "fac7d31d-3328-4319-9425-20c22528dba1",
   "metadata": {},
   "outputs": [
    {
     "data": {
      "text/html": [
       "<div>\n",
       "<style scoped>\n",
       "    .dataframe tbody tr th:only-of-type {\n",
       "        vertical-align: middle;\n",
       "    }\n",
       "\n",
       "    .dataframe tbody tr th {\n",
       "        vertical-align: top;\n",
       "    }\n",
       "\n",
       "    .dataframe thead th {\n",
       "        text-align: right;\n",
       "    }\n",
       "</style>\n",
       "<table border=\"1\" class=\"dataframe\">\n",
       "  <thead>\n",
       "    <tr style=\"text-align: right;\">\n",
       "      <th></th>\n",
       "      <th>0</th>\n",
       "    </tr>\n",
       "  </thead>\n",
       "  <tbody>\n",
       "    <tr>\n",
       "      <th>0</th>\n",
       "      <td>b'&lt;!DOCTYPE html&gt;\\n&lt;html lang=\"en\" id=\"faceboo...</td>\n",
       "    </tr>\n",
       "    <tr>\n",
       "      <th>1</th>\n",
       "      <td>b't\" id=\"meta_referrer\" /&gt;&lt;script nonce=\"VgiyR...</td>\n",
       "    </tr>\n",
       "    <tr>\n",
       "      <th>2</th>\n",
       "      <td>b'window.requireLazy([\"Env\"],b):(window.Env=wi...</td>\n",
       "    </tr>\n",
       "    <tr>\n",
       "      <th>3</th>\n",
       "      <td>b'nly\":false,\"ajaxpipe_token\":\"AXiIB69d99s2FYF...</td>\n",
       "    </tr>\n",
       "    <tr>\n",
       "      <th>4</th>\n",
       "      <td>b'se,\"compat_iframe_token\":\"AUW_HVZKaf4cOc5ETD...</td>\n",
       "    </tr>\n",
       "    <tr>\n",
       "      <th>5</th>\n",
       "      <td>b'VgiyRJV8\"&gt;window.openDatabase&amp;&amp;(window.openD...</td>\n",
       "    </tr>\n",
       "    <tr>\n",
       "      <th>6</th>\n",
       "      <td>b'/script&gt;&lt;script nonce=\"VgiyRJV8\"&gt;(function()...</td>\n",
       "    </tr>\n",
       "    <tr>\n",
       "      <th>7</th>\n",
       "      <td>b'ad}function b(a){return a.nodeName===\"SCRIPT...</td>\n",
       "    </tr>\n",
       "    <tr>\n",
       "      <th>8</th>\n",
       "      <td>b'ataset instanceof window.DOMStringMap)?null:...</td>\n",
       "    </tr>\n",
       "    <tr>\n",
       "      <th>9</th>\n",
       "      <td>b'return}if(a(d)||!b(d))return;var f=(e=c(d))=...</td>\n",
       "    </tr>\n",
       "  </tbody>\n",
       "</table>\n",
       "</div>"
      ],
      "text/plain": [
       "                                                   0\n",
       "0  b'<!DOCTYPE html>\\n<html lang=\"en\" id=\"faceboo...\n",
       "1  b't\" id=\"meta_referrer\" /><script nonce=\"VgiyR...\n",
       "2  b'window.requireLazy([\"Env\"],b):(window.Env=wi...\n",
       "3  b'nly\":false,\"ajaxpipe_token\":\"AXiIB69d99s2FYF...\n",
       "4  b'se,\"compat_iframe_token\":\"AUW_HVZKaf4cOc5ETD...\n",
       "5  b'VgiyRJV8\">window.openDatabase&&(window.openD...\n",
       "6  b'/script><script nonce=\"VgiyRJV8\">(function()...\n",
       "7  b'ad}function b(a){return a.nodeName===\"SCRIPT...\n",
       "8  b'ataset instanceof window.DOMStringMap)?null:...\n",
       "9  b'return}if(a(d)||!b(d))return;var f=(e=c(d))=..."
      ]
     },
     "execution_count": 25,
     "metadata": {},
     "output_type": "execute_result"
    }
   ],
   "source": [
    "df=pd.DataFrame(response)\n",
    "df.head(10)"
   ]
  },
  {
   "cell_type": "code",
   "execution_count": null,
   "id": "efb1f217-c303-428c-ae63-d08405d88aa2",
   "metadata": {},
   "outputs": [],
   "source": []
  }
 ],
 "metadata": {
  "kernelspec": {
   "display_name": "Python [conda env:base] *",
   "language": "python",
   "name": "conda-base-py"
  },
  "language_info": {
   "codemirror_mode": {
    "name": "ipython",
    "version": 3
   },
   "file_extension": ".py",
   "mimetype": "text/x-python",
   "name": "python",
   "nbconvert_exporter": "python",
   "pygments_lexer": "ipython3",
   "version": "3.12.7"
  }
 },
 "nbformat": 4,
 "nbformat_minor": 5
}
