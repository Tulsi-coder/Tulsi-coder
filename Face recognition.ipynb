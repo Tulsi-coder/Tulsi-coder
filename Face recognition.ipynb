{
 "cells": [
  {
   "cell_type": "code",
   "execution_count": 7,
   "id": "31296fdd-6629-451e-8933-554a4b9811f4",
   "metadata": {},
   "outputs": [
    {
     "name": "stdout",
     "output_type": "stream",
     "text": [
      "Requirement already satisfied: opencv-python in c:\\users\\kishr\\anaconda3\\lib\\site-packages (4.11.0.86)\n",
      "Requirement already satisfied: numpy>=1.21.2 in c:\\users\\kishr\\anaconda3\\lib\\site-packages (from opencv-python) (1.26.4)\n"
     ]
    }
   ],
   "source": [
    "!pip install opencv-python"
   ]
  },
  {
   "cell_type": "code",
   "execution_count": 15,
   "id": "e16e7c1c-2707-4400-b3cf-f46325ec7060",
   "metadata": {},
   "outputs": [],
   "source": [
    "import cv2"
   ]
  },
  {
   "cell_type": "code",
   "execution_count": 17,
   "id": "2ec61bfc-a01d-4de7-afb9-068f14fd439d",
   "metadata": {},
   "outputs": [],
   "source": [
    "import cv2\n",
    "import numpy as np\n",
    "from sklearn.neighbors import KNeighborsClassifier\n",
    "from sklearn.model_selection import train_test_split\n",
    "import matplotlib.pyplot as plt"
   ]
  },
  {
   "cell_type": "code",
   "execution_count": 19,
   "id": "9e586367-a1c1-41aa-a4b7-132a66e4efc3",
   "metadata": {},
   "outputs": [],
   "source": [
    "# Start video capture (0 = default webcam)\n",
    "cap = cv2.VideoCapture(0)"
   ]
  },
  {
   "cell_type": "code",
   "execution_count": 20,
   "id": "238487c4-a4a8-457c-a21e-c363e8264ca5",
   "metadata": {},
   "outputs": [],
   "source": [
    "# Capture frames\n",
    "ret, frame = cap.read()"
   ]
  },
  {
   "cell_type": "code",
   "execution_count": 21,
   "id": "cb065d5d-515f-4e63-8114-381cad797071",
   "metadata": {},
   "outputs": [],
   "source": [
    "# code for capturing and saving images\n",
    "import cv2\n",
    "import os"
   ]
  },
  {
   "cell_type": "code",
   "execution_count": 31,
   "id": "ae7303bc-d60d-4325-82bc-b9f67612c7cb",
   "metadata": {},
   "outputs": [],
   "source": [
    "# Set label and output directory\n",
    "label = \"Tulsi\"\n",
    "output_dir = f\"./data/{label}\"\n",
    "os.makedirs(output_dir, exist_ok=True)       "
   ]
  },
  {
   "cell_type": "code",
   "execution_count": 33,
   "id": "bd3ac198-60fa-4f08-bb29-a21e9da513f5",
   "metadata": {},
   "outputs": [
    {
     "name": "stdout",
     "output_type": "stream",
     "text": [
      "Press 's' to save the image, 'q' to quit.\n"
     ]
    }
   ],
   "source": [
    "# Start webcam\n",
    "cap = cv2.VideoCapture(0)\n",
    "print(\"Press 's' to save the image, 'q' to quit.\")"
   ]
  },
  {
   "cell_type": "code",
   "execution_count": null,
   "id": "691a744a-ca7c-48ed-9eee-2147d862050b",
   "metadata": {},
   "outputs": [],
   "source": [
    "image_count = 0\n",
    "\n",
    "while True:\n",
    "    ret, frame = cap.read()\n",
    "    if not ret:\n",
    "        break\n",
    "\n",
    "    # Show the webcam feed\n",
    "    cv2.imshow(\"Webcam\", frame)\n",
    "    \n",
    " # Wait for key press\n",
    "    key = cv2.waitKey(1) & 0xFF\n"
   ]
  },
  {
   "cell_type": "code",
   "execution_count": null,
   "id": "673ec8c1-0e1a-4168-b76e-ba4cf8eeacf2",
   "metadata": {},
   "outputs": [],
   "source": [
    "  if key == ord('s'):\n",
    "        # Save image\n",
    "        image_path = os.path.join(output_dir, f\"{label}_{image_count}.jpg\")\n",
    "        cv2.imwrite(image_path, frame)\n",
    "        image_count += 1\n",
    "        print(f\"Saved: {image_path}\")\n",
    "\n",
    "    elif key == ord('q'):\n",
    "        break\n",
    "\n"
   ]
  },
  {
   "cell_type": "code",
   "execution_count": 35,
   "id": "8ff3dcd0-d2c5-4b04-80e8-ec44686f827b",
   "metadata": {},
   "outputs": [],
   "source": [
    "# Cleanup\n",
    "cap.release()\n",
    "cv2.destroyAllWindows()"
   ]
  }
 ],
 "metadata": {
  "kernelspec": {
   "display_name": "Python [conda env:base] *",
   "language": "python",
   "name": "conda-base-py"
  },
  "language_info": {
   "codemirror_mode": {
    "name": "ipython",
    "version": 3
   },
   "file_extension": ".py",
   "mimetype": "text/x-python",
   "name": "python",
   "nbconvert_exporter": "python",
   "pygments_lexer": "ipython3",
   "version": "3.12.7"
  }
 },
 "nbformat": 4,
 "nbformat_minor": 5
}
