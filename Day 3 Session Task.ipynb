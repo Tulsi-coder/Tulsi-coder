{
 "cells": [
  {
   "cell_type": "code",
   "execution_count": null,
   "id": "8e804407-75dd-42bd-a7b2-b405a784a78c",
   "metadata": {},
   "outputs": [],
   "source": [
    "Sets: Create two sets of students enrolled in different courses and find the students who are enrolled in both courses."
   ]
  },
  {
   "cell_type": "code",
   "execution_count": 5,
   "id": "10499e46-5024-4e16-a076-e77d868c106e",
   "metadata": {},
   "outputs": [
    {
     "name": "stdout",
     "output_type": "stream",
     "text": [
      "Students enrolled in both courses: {'Pragya', 'Tulsi'}\n",
      "Students enrolled in different courses: {'Pragya', 'Tulsi'}\n"
     ]
    }
   ],
   "source": [
    "# Task: Find students enrolled in both courses\n",
    "course_a_students = {\"Tulsi\", \"Pragya\", \"Sameer\", \"Diana\"}\n",
    "course_b_students = {\"sita\", \"Ram\", \"Pragya\", \"Tulsi\"}\n",
    "\n",
    "common_students = course_a_students.intersection(course_b_students)\n",
    "\n",
    "print(\"Students enrolled in both courses:\", common_students)\n",
    "print(\"Students enrolled in different courses:\", common_students)"
   ]
  },
  {
   "cell_type": "code",
   "execution_count": null,
   "id": "1bb6970e-3d6d-4bdb-a7b8-c1757e4fcbb2",
   "metadata": {},
   "outputs": [],
   "source": [
    "Dictionary: Create a dictionary that stores the prices of 5 items from a grocery store. Practice adding, updating, and removing items."
   ]
  },
  {
   "cell_type": "code",
   "execution_count": 7,
   "id": "b3267af4-1ad3-4622-90e7-eea75248a8fb",
   "metadata": {},
   "outputs": [
    {
     "name": "stdout",
     "output_type": "stream",
     "text": [
      "Updated grocery prices: {'Blueberry': 4.2, 'Bananas': 3.5, 'Carrots': 0.8, 'Eggs': 4.2, 'chips': 2.2}\n"
     ]
    }
   ],
   "source": [
    "# Task: Grocery store prices dictionary\n",
    "grocery_prices = {\"Blueberry\": 4.20,\"Bananas\": 3.50,\"Carrots\": 0.80, \"Potatos\": 3.50,\"Eggs\": 4.00\n",
    "}\n",
    "\n",
    "# Add an item\n",
    "grocery_prices[\"chips\"] = 2.20\n",
    "\n",
    "# Update an item\n",
    "grocery_prices[\"Eggs\"] = 4.20\n",
    "\n",
    "# Remove an item\n",
    "del grocery_prices[\"Potatos\"]\n",
    "\n",
    "print(\"Updated grocery prices:\", grocery_prices)\n"
   ]
  },
  {
   "cell_type": "code",
   "execution_count": null,
   "id": "8ff97486-6aec-446a-970b-272514882e36",
   "metadata": {},
   "outputs": [],
   "source": [
    "List\n",
    ": Create a list of your top 5 favorite movies, and practice adding, removing, and accessing them."
   ]
  },
  {
   "cell_type": "code",
   "execution_count": 9,
   "id": "28b9d2ca-92e4-421f-86d6-057257fcc368",
   "metadata": {},
   "outputs": [
    {
     "name": "stdout",
     "output_type": "stream",
     "text": [
      "My top movie is: Aama\n",
      "Updated favorite movies list: ['Aama', 'TareJamenpar', 'Heretic', 'Blink Twice', 'Aama']\n"
     ]
    }
   ],
   "source": [
    "# Task: Favorite movies list\n",
    "favorite_movies = [\"Aama\", \"TareJamenpar\", \"Heretic\", \"A Real Pain\", \"Blink Twice\"]\n",
    "\n",
    "# Add a movie\n",
    "favorite_movies.append(\"Aama\")\n",
    "\n",
    "# Remove a movie\n",
    "favorite_movies.remove(\"A Real Pain\")\n",
    "\n",
    "# Access a movie\n",
    "print(\"My top movie is:\", favorite_movies[0])\n",
    "\n",
    "print(\"Updated favorite movies list:\", favorite_movies)"
   ]
  },
  {
   "cell_type": "code",
   "execution_count": null,
   "id": "00e75a29-10b2-4540-850d-30231b0373c3",
   "metadata": {},
   "outputs": [],
   "source": [
    "Tuple: Create a tuple with information about your favorite book (title, author, publication year) and print each element."
   ]
  },
  {
   "cell_type": "code",
   "execution_count": 11,
   "id": "3f424ad8-5bfa-4ad7-9ee7-477149a952ca",
   "metadata": {},
   "outputs": [
    {
     "name": "stdout",
     "output_type": "stream",
     "text": [
      "Favorite book title: 2007\n",
      "Author: Narayan Wagle\n",
      "Publication year: 2005\n"
     ]
    }
   ],
   "source": [
    "# Task: Favorite book tuple\n",
    "favorite_book = (\"2007\", \"Narayan Wagle\", 2005)\n",
    "\n",
    "# Print each element\n",
    "print(\"Favorite book title:\", favorite_book[0])\n",
    "print(\"Author:\", favorite_book[1])\n",
    "print(\"Publication year:\", favorite_book[2])"
   ]
  },
  {
   "cell_type": "code",
   "execution_count": null,
   "id": "33f639b0-8573-4ac4-bcfb-57caabc5d9b1",
   "metadata": {},
   "outputs": [],
   "source": []
  }
 ],
 "metadata": {
  "kernelspec": {
   "display_name": "Python [conda env:base] *",
   "language": "python",
   "name": "conda-base-py"
  },
  "language_info": {
   "codemirror_mode": {
    "name": "ipython",
    "version": 3
   },
   "file_extension": ".py",
   "mimetype": "text/x-python",
   "name": "python",
   "nbconvert_exporter": "python",
   "pygments_lexer": "ipython3",
   "version": "3.12.7"
  }
 },
 "nbformat": 4,
 "nbformat_minor": 5
}
