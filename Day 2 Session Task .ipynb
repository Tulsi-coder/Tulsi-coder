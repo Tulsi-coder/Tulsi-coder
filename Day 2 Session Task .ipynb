{
 "cells": [
  {
   "cell_type": "code",
   "execution_count": null,
   "id": "52d3ac81-0f35-44b9-9800-42db4c106cde",
   "metadata": {},
   "outputs": [],
   "source": [
    "Task 1: Variable Assignment\n",
    "1. Create a variable a and assign it the value 50.\n",
    "2. Create another variable b and assign it the value 30.5.\n",
    "3. Print their values and types"
   ]
  },
  {
   "cell_type": "code",
   "execution_count": 1,
   "id": "ea4c0e1d-8df4-4799-9e66-c76ebaed9a65",
   "metadata": {},
   "outputs": [
    {
     "name": "stdout",
     "output_type": "stream",
     "text": [
      "50 30.5\n",
      "Type of num1: <class 'int'>\n",
      "Type of num2: <class 'float'>\n"
     ]
    }
   ],
   "source": [
    "num1 = 50\n",
    "num2 = 30.5\n",
    "print(num1,num2)\n",
    "print(\"Type of num1:\", type(num1))\n",
    "print(\"Type of num2:\", type(num2))"
   ]
  },
  {
   "cell_type": "code",
   "execution_count": null,
   "id": "0e608c53-a190-4cec-8c4a-9eb3f42d6051",
   "metadata": {},
   "outputs": [],
   "source": [
    "Task 2: Operators\n",
    "1. Using variables a and b from Task 1, perform the following operations:\n",
    "– Addition\n",
    "– Subtraction\n",
    "– Multiplication\n",
    "– Floor Division"
   ]
  },
  {
   "cell_type": "code",
   "execution_count": 3,
   "id": "b5ec1bb5-e5b3-42f8-86a0-7b34affeb146",
   "metadata": {},
   "outputs": [
    {
     "name": "stdout",
     "output_type": "stream",
     "text": [
      "sum: 80.5\n",
      "subtraction: 19.5\n",
      "Multiplication: 1525.0\n",
      "Floor Division: 1.0\n"
     ]
    }
   ],
   "source": [
    "print(\"sum:\", num1 + num2)\n",
    "print(\"subtraction:\", num1 - num2)\n",
    "print(\"Multiplication:\", num1 * num2)\n",
    "print(\"Floor Division:\", num1 // num2)\n"
   ]
  },
  {
   "cell_type": "code",
   "execution_count": null,
   "id": "4c902565-7e06-4f41-bbef-0fc10d082d74",
   "metadata": {},
   "outputs": [],
   "source": [
    "2. Compare the two variables to check if a is greater than b"
   ]
  },
  {
   "cell_type": "code",
   "execution_count": 5,
   "id": "1f9aaece-3c47-4457-84ed-f6fb87d22937",
   "metadata": {},
   "outputs": [
    {
     "name": "stdout",
     "output_type": "stream",
     "text": [
      " is num1 is greater than num2: True\n"
     ]
    }
   ],
   "source": [
    "print(\" is num1 is greater than num2:\", num1>num2)\n"
   ]
  },
  {
   "cell_type": "code",
   "execution_count": null,
   "id": "1a8cb1db-14ad-4f0b-97ef-83fbb14842c1",
   "metadata": {},
   "outputs": [],
   "source": [
    "3. Swap the values of a and b without using a third variable."
   ]
  },
  {
   "cell_type": "code",
   "execution_count": 7,
   "id": "2f338730-5e71-4765-9c7c-61e86fe8188c",
   "metadata": {},
   "outputs": [
    {
     "name": "stdout",
     "output_type": "stream",
     "text": [
      "value of num1 after swapping: 30.5\n",
      "value of num2 after swapping: 50\n"
     ]
    }
   ],
   "source": [
    "num1, num2 = num2, num1\n",
    "print(\"value of num1 after swapping:\", num1)\n",
    "print(\"value of num2 after swapping:\", num2)\n"
   ]
  },
  {
   "cell_type": "code",
   "execution_count": null,
   "id": "89b03f7e-4e0a-4534-9952-0d3760a2ac49",
   "metadata": {},
   "outputs": [],
   "source": []
  }
 ],
 "metadata": {
  "kernelspec": {
   "display_name": "Python [conda env:base] *",
   "language": "python",
   "name": "conda-base-py"
  },
  "language_info": {
   "codemirror_mode": {
    "name": "ipython",
    "version": 3
   },
   "file_extension": ".py",
   "mimetype": "text/x-python",
   "name": "python",
   "nbconvert_exporter": "python",
   "pygments_lexer": "ipython3",
   "version": "3.12.7"
  }
 },
 "nbformat": 4,
 "nbformat_minor": 5
}
